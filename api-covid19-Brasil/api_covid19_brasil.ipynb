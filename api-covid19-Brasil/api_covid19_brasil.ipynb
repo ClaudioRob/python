{
 "cells": [
  {
   "cell_type": "markdown",
   "id": "ee244bf7",
   "metadata": {},
   "source": [
    "## Dados da Covid-19 Brasil"
   ]
  },
  {
   "cell_type": "code",
   "execution_count": 1,
   "id": "8177862e",
   "metadata": {},
   "outputs": [],
   "source": [
    "import pandas as pd\r\n",
    "import numpy as np"
   ]
  },
  {
   "cell_type": "code",
   "execution_count": 3,
   "id": "86c3eff5",
   "metadata": {},
   "outputs": [
    {
     "data": {
      "text/html": [
       "<div>\n",
       "<style scoped>\n",
       "    .dataframe tbody tr th:only-of-type {\n",
       "        vertical-align: middle;\n",
       "    }\n",
       "\n",
       "    .dataframe tbody tr th {\n",
       "        vertical-align: top;\n",
       "    }\n",
       "\n",
       "    .dataframe thead th {\n",
       "        text-align: right;\n",
       "    }\n",
       "</style>\n",
       "<table border=\"1\" class=\"dataframe\">\n",
       "  <thead>\n",
       "    <tr style=\"text-align: right;\">\n",
       "      <th></th>\n",
       "      <th>city</th>\n",
       "      <th>city_ibge_code</th>\n",
       "      <th>date</th>\n",
       "      <th>epidemiological_week</th>\n",
       "      <th>estimated_population</th>\n",
       "      <th>estimated_population_2019</th>\n",
       "      <th>is_last</th>\n",
       "      <th>is_repeated</th>\n",
       "      <th>last_available_confirmed</th>\n",
       "      <th>last_available_confirmed_per_100k_inhabitants</th>\n",
       "      <th>last_available_date</th>\n",
       "      <th>last_available_death_rate</th>\n",
       "      <th>last_available_deaths</th>\n",
       "      <th>order_for_place</th>\n",
       "      <th>place_type</th>\n",
       "      <th>state</th>\n",
       "      <th>new_confirmed</th>\n",
       "      <th>new_deaths</th>\n",
       "    </tr>\n",
       "  </thead>\n",
       "  <tbody>\n",
       "    <tr>\n",
       "      <th>0</th>\n",
       "      <td>Rio Branco</td>\n",
       "      <td>1200401.0</td>\n",
       "      <td>2020-03-17</td>\n",
       "      <td>202012</td>\n",
       "      <td>413418.0</td>\n",
       "      <td>407319.0</td>\n",
       "      <td>False</td>\n",
       "      <td>False</td>\n",
       "      <td>3</td>\n",
       "      <td>0.72566</td>\n",
       "      <td>2020-03-17</td>\n",
       "      <td>0.0</td>\n",
       "      <td>0</td>\n",
       "      <td>1</td>\n",
       "      <td>city</td>\n",
       "      <td>AC</td>\n",
       "      <td>3</td>\n",
       "      <td>0</td>\n",
       "    </tr>\n",
       "    <tr>\n",
       "      <th>1</th>\n",
       "      <td>NaN</td>\n",
       "      <td>12.0</td>\n",
       "      <td>2020-03-17</td>\n",
       "      <td>202012</td>\n",
       "      <td>894470.0</td>\n",
       "      <td>881935.0</td>\n",
       "      <td>False</td>\n",
       "      <td>False</td>\n",
       "      <td>3</td>\n",
       "      <td>0.33539</td>\n",
       "      <td>2020-03-17</td>\n",
       "      <td>0.0</td>\n",
       "      <td>0</td>\n",
       "      <td>1</td>\n",
       "      <td>state</td>\n",
       "      <td>AC</td>\n",
       "      <td>3</td>\n",
       "      <td>0</td>\n",
       "    </tr>\n",
       "    <tr>\n",
       "      <th>2</th>\n",
       "      <td>Rio Branco</td>\n",
       "      <td>1200401.0</td>\n",
       "      <td>2020-03-18</td>\n",
       "      <td>202012</td>\n",
       "      <td>413418.0</td>\n",
       "      <td>407319.0</td>\n",
       "      <td>False</td>\n",
       "      <td>False</td>\n",
       "      <td>3</td>\n",
       "      <td>0.72566</td>\n",
       "      <td>2020-03-18</td>\n",
       "      <td>0.0</td>\n",
       "      <td>0</td>\n",
       "      <td>2</td>\n",
       "      <td>city</td>\n",
       "      <td>AC</td>\n",
       "      <td>0</td>\n",
       "      <td>0</td>\n",
       "    </tr>\n",
       "    <tr>\n",
       "      <th>3</th>\n",
       "      <td>NaN</td>\n",
       "      <td>12.0</td>\n",
       "      <td>2020-03-18</td>\n",
       "      <td>202012</td>\n",
       "      <td>894470.0</td>\n",
       "      <td>881935.0</td>\n",
       "      <td>False</td>\n",
       "      <td>False</td>\n",
       "      <td>3</td>\n",
       "      <td>0.33539</td>\n",
       "      <td>2020-03-18</td>\n",
       "      <td>0.0</td>\n",
       "      <td>0</td>\n",
       "      <td>2</td>\n",
       "      <td>state</td>\n",
       "      <td>AC</td>\n",
       "      <td>0</td>\n",
       "      <td>0</td>\n",
       "    </tr>\n",
       "    <tr>\n",
       "      <th>4</th>\n",
       "      <td>Rio Branco</td>\n",
       "      <td>1200401.0</td>\n",
       "      <td>2020-03-19</td>\n",
       "      <td>202012</td>\n",
       "      <td>413418.0</td>\n",
       "      <td>407319.0</td>\n",
       "      <td>False</td>\n",
       "      <td>False</td>\n",
       "      <td>4</td>\n",
       "      <td>0.96754</td>\n",
       "      <td>2020-03-19</td>\n",
       "      <td>0.0</td>\n",
       "      <td>0</td>\n",
       "      <td>3</td>\n",
       "      <td>city</td>\n",
       "      <td>AC</td>\n",
       "      <td>1</td>\n",
       "      <td>0</td>\n",
       "    </tr>\n",
       "  </tbody>\n",
       "</table>\n",
       "</div>"
      ],
      "text/plain": [
       "         city  city_ibge_code       date  epidemiological_week  \\\n",
       "0  Rio Branco       1200401.0 2020-03-17                202012   \n",
       "1         NaN            12.0 2020-03-17                202012   \n",
       "2  Rio Branco       1200401.0 2020-03-18                202012   \n",
       "3         NaN            12.0 2020-03-18                202012   \n",
       "4  Rio Branco       1200401.0 2020-03-19                202012   \n",
       "\n",
       "   estimated_population  estimated_population_2019  is_last  is_repeated  \\\n",
       "0              413418.0                   407319.0    False        False   \n",
       "1              894470.0                   881935.0    False        False   \n",
       "2              413418.0                   407319.0    False        False   \n",
       "3              894470.0                   881935.0    False        False   \n",
       "4              413418.0                   407319.0    False        False   \n",
       "\n",
       "   last_available_confirmed  last_available_confirmed_per_100k_inhabitants  \\\n",
       "0                         3                                        0.72566   \n",
       "1                         3                                        0.33539   \n",
       "2                         3                                        0.72566   \n",
       "3                         3                                        0.33539   \n",
       "4                         4                                        0.96754   \n",
       "\n",
       "  last_available_date  last_available_death_rate  last_available_deaths  \\\n",
       "0          2020-03-17                        0.0                      0   \n",
       "1          2020-03-17                        0.0                      0   \n",
       "2          2020-03-18                        0.0                      0   \n",
       "3          2020-03-18                        0.0                      0   \n",
       "4          2020-03-19                        0.0                      0   \n",
       "\n",
       "   order_for_place place_type state  new_confirmed  new_deaths  \n",
       "0                1       city    AC              3           0  \n",
       "1                1      state    AC              3           0  \n",
       "2                2       city    AC              0           0  \n",
       "3                2      state    AC              0           0  \n",
       "4                3       city    AC              1           0  "
      ]
     },
     "execution_count": 3,
     "metadata": {},
     "output_type": "execute_result"
    }
   ],
   "source": [
    "df = pd.read_csv(\"C:\\DataSets\\python\\covid19brasil.csv\", sep=\",\", parse_dates=['date','last_available_date'], dayfirst=True)\r\n",
    "df.head(5)"
   ]
  },
  {
   "cell_type": "code",
   "execution_count": 4,
   "id": "73ae4047",
   "metadata": {},
   "outputs": [
    {
     "data": {
      "text/plain": [
       "(2775376, 18)"
      ]
     },
     "execution_count": 4,
     "metadata": {},
     "output_type": "execute_result"
    }
   ],
   "source": [
    "df.shape"
   ]
  },
  {
   "cell_type": "code",
   "execution_count": 5,
   "id": "a61f36d4",
   "metadata": {},
   "outputs": [
    {
     "name": "stdout",
     "output_type": "stream",
     "text": [
      "<class 'pandas.core.frame.DataFrame'>\n",
      "RangeIndex: 2775376 entries, 0 to 2775375\n",
      "Data columns (total 18 columns):\n",
      " #   Column                                         Dtype         \n",
      "---  ------                                         -----         \n",
      " 0   city                                           object        \n",
      " 1   city_ibge_code                                 float64       \n",
      " 2   date                                           datetime64[ns]\n",
      " 3   epidemiological_week                           int64         \n",
      " 4   estimated_population                           float64       \n",
      " 5   estimated_population_2019                      float64       \n",
      " 6   is_last                                        bool          \n",
      " 7   is_repeated                                    bool          \n",
      " 8   last_available_confirmed                       int64         \n",
      " 9   last_available_confirmed_per_100k_inhabitants  float64       \n",
      " 10  last_available_date                            datetime64[ns]\n",
      " 11  last_available_death_rate                      float64       \n",
      " 12  last_available_deaths                          int64         \n",
      " 13  order_for_place                                int64         \n",
      " 14  place_type                                     object        \n",
      " 15  state                                          object        \n",
      " 16  new_confirmed                                  int64         \n",
      " 17  new_deaths                                     int64         \n",
      "dtypes: bool(2), datetime64[ns](2), float64(5), int64(6), object(3)\n",
      "memory usage: 344.1+ MB\n"
     ]
    }
   ],
   "source": [
    "df.info()"
   ]
  },
  {
   "cell_type": "code",
   "execution_count": 6,
   "id": "647756b4-6d4e-4a5b-b07a-324b8803b371",
   "metadata": {},
   "outputs": [
    {
     "data": {
      "text/plain": [
       "city                                             2760441\n",
       "city_ibge_code                                   2765378\n",
       "date                                             2775376\n",
       "epidemiological_week                             2775376\n",
       "estimated_population                             2765378\n",
       "estimated_population_2019                        2765378\n",
       "is_last                                          2775376\n",
       "is_repeated                                      2775376\n",
       "last_available_confirmed                         2775376\n",
       "last_available_confirmed_per_100k_inhabitants    2749858\n",
       "last_available_date                              2775376\n",
       "last_available_death_rate                        2775376\n",
       "last_available_deaths                            2775376\n",
       "order_for_place                                  2775376\n",
       "place_type                                       2775376\n",
       "state                                            2775376\n",
       "new_confirmed                                    2775376\n",
       "new_deaths                                       2775376\n",
       "dtype: int64"
      ]
     },
     "execution_count": 6,
     "metadata": {},
     "output_type": "execute_result"
    }
   ],
   "source": [
    "df.count()"
   ]
  },
  {
   "cell_type": "code",
   "execution_count": null,
   "id": "42e04c7d-b47a-40ba-abbb-818c220b2c47",
   "metadata": {},
   "outputs": [],
   "source": []
  }
 ],
 "metadata": {
  "kernelspec": {
   "display_name": "Python 3",
   "language": "python",
   "name": "python3"
  },
  "language_info": {
   "codemirror_mode": {
    "name": "ipython",
    "version": 3
   },
   "file_extension": ".py",
   "mimetype": "text/x-python",
   "name": "python",
   "nbconvert_exporter": "python",
   "pygments_lexer": "ipython3",
   "version": "3.8.8"
  }
 },
 "nbformat": 4,
 "nbformat_minor": 5
}
