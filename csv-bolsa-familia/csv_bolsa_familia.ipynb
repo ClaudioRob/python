{
 "cells": [
  {
   "cell_type": "markdown",
   "id": "011e162d",
   "metadata": {},
   "source": [
    "## Dados Bolsa Família - janeiro/2020"
   ]
  },
  {
   "cell_type": "code",
   "execution_count": 2,
   "id": "cbaf96e8",
   "metadata": {},
   "outputs": [],
   "source": [
    "import pandas as pd\n",
    "import numpy as np\n",
    "import matplotlib.pyplot as plt\n",
    "from pathlib import Path, PureWindowsPath"
   ]
  },
  {
   "cell_type": "code",
   "execution_count": 3,
   "id": "a66f8048",
   "metadata": {},
   "outputs": [],
   "source": [
    "file = PureWindowsPath('C:/DataSets/python/bolsafamilia_jan2020.csv')"
   ]
  },
  {
   "cell_type": "code",
   "execution_count": 6,
   "id": "29faac95",
   "metadata": {},
   "outputs": [
    {
     "data": {
      "text/html": [
       "<div>\n",
       "<style scoped>\n",
       "    .dataframe tbody tr th:only-of-type {\n",
       "        vertical-align: middle;\n",
       "    }\n",
       "\n",
       "    .dataframe tbody tr th {\n",
       "        vertical-align: top;\n",
       "    }\n",
       "\n",
       "    .dataframe thead th {\n",
       "        text-align: right;\n",
       "    }\n",
       "</style>\n",
       "<table border=\"1\" class=\"dataframe\">\n",
       "  <thead>\n",
       "    <tr style=\"text-align: right;\">\n",
       "      <th></th>\n",
       "      <th>M�S REFER�NCIA</th>\n",
       "      <th>M�S COMPET�NCIA</th>\n",
       "      <th>UF</th>\n",
       "      <th>C�DIGO MUNIC�PIO SIAFI</th>\n",
       "      <th>NOME MUNIC�PIO</th>\n",
       "      <th>CPF FAVORECIDO</th>\n",
       "      <th>NIS FAVORECIDO</th>\n",
       "      <th>NOME FAVORECIDO</th>\n",
       "      <th>VALOR PARCELA</th>\n",
       "    </tr>\n",
       "  </thead>\n",
       "  <tbody>\n",
       "    <tr>\n",
       "      <th>0</th>\n",
       "      <td>202001</td>\n",
       "      <td>201901</td>\n",
       "      <td>MG</td>\n",
       "      <td>4123</td>\n",
       "      <td>BELO HORIZONTE</td>\n",
       "      <td>***.361.206-**</td>\n",
       "      <td>12581466091</td>\n",
       "      <td>ADRIANA RANGEL SANSAO</td>\n",
       "      <td>253,00</td>\n",
       "    </tr>\n",
       "    <tr>\n",
       "      <th>1</th>\n",
       "      <td>202001</td>\n",
       "      <td>201901</td>\n",
       "      <td>MG</td>\n",
       "      <td>4123</td>\n",
       "      <td>BELO HORIZONTE</td>\n",
       "      <td>***.421.636-**</td>\n",
       "      <td>16057458312</td>\n",
       "      <td>ALEXSANDRA PEREIRA MUTZ</td>\n",
       "      <td>253,00</td>\n",
       "    </tr>\n",
       "    <tr>\n",
       "      <th>2</th>\n",
       "      <td>202001</td>\n",
       "      <td>201901</td>\n",
       "      <td>MG</td>\n",
       "      <td>4123</td>\n",
       "      <td>BELO HORIZONTE</td>\n",
       "      <td>***.770.636-**</td>\n",
       "      <td>16127018278</td>\n",
       "      <td>ELIANA CRISTINA ROCHA SILVA</td>\n",
       "      <td>212,00</td>\n",
       "    </tr>\n",
       "    <tr>\n",
       "      <th>3</th>\n",
       "      <td>202001</td>\n",
       "      <td>201901</td>\n",
       "      <td>MG</td>\n",
       "      <td>4123</td>\n",
       "      <td>BELO HORIZONTE</td>\n",
       "      <td>***.331.186-**</td>\n",
       "      <td>12135368026</td>\n",
       "      <td>ELIANE PEREIRA</td>\n",
       "      <td>212,00</td>\n",
       "    </tr>\n",
       "    <tr>\n",
       "      <th>4</th>\n",
       "      <td>202001</td>\n",
       "      <td>201901</td>\n",
       "      <td>MG</td>\n",
       "      <td>4123</td>\n",
       "      <td>BELO HORIZONTE</td>\n",
       "      <td>***.594.436-**</td>\n",
       "      <td>16271288457</td>\n",
       "      <td>IOLANDA DE ASSIS SILVA CESARINO</td>\n",
       "      <td>294,00</td>\n",
       "    </tr>\n",
       "  </tbody>\n",
       "</table>\n",
       "</div>"
      ],
      "text/plain": [
       "   M�S REFER�NCIA  M�S COMPET�NCIA  UF  C�DIGO MUNIC�PIO SIAFI  \\\n",
       "0          202001           201901  MG                    4123   \n",
       "1          202001           201901  MG                    4123   \n",
       "2          202001           201901  MG                    4123   \n",
       "3          202001           201901  MG                    4123   \n",
       "4          202001           201901  MG                    4123   \n",
       "\n",
       "   NOME MUNIC�PIO  CPF FAVORECIDO  NIS FAVORECIDO  \\\n",
       "0  BELO HORIZONTE  ***.361.206-**     12581466091   \n",
       "1  BELO HORIZONTE  ***.421.636-**     16057458312   \n",
       "2  BELO HORIZONTE  ***.770.636-**     16127018278   \n",
       "3  BELO HORIZONTE  ***.331.186-**     12135368026   \n",
       "4  BELO HORIZONTE  ***.594.436-**     16271288457   \n",
       "\n",
       "                   NOME FAVORECIDO VALOR PARCELA  \n",
       "0            ADRIANA RANGEL SANSAO        253,00  \n",
       "1          ALEXSANDRA PEREIRA MUTZ        253,00  \n",
       "2      ELIANA CRISTINA ROCHA SILVA        212,00  \n",
       "3                   ELIANE PEREIRA        212,00  \n",
       "4  IOLANDA DE ASSIS SILVA CESARINO        294,00  "
      ]
     },
     "execution_count": 6,
     "metadata": {},
     "output_type": "execute_result"
    }
   ],
   "source": [
    "df = pd.read_csv(file, sep=';')\n",
    "df.head()"
   ]
  },
  {
   "cell_type": "code",
   "execution_count": 8,
   "id": "31da6e4a",
   "metadata": {},
   "outputs": [
    {
     "name": "stdout",
     "output_type": "stream",
     "text": [
      "<class 'pandas.core.frame.DataFrame'>\n",
      "RangeIndex: 13301798 entries, 0 to 13301797\n",
      "Data columns (total 9 columns):\n",
      " #   Column                  Dtype \n",
      "---  ------                  ----- \n",
      " 0   M�S REFER�NCIA          int64 \n",
      " 1   M�S COMPET�NCIA         int64 \n",
      " 2   UF                      object\n",
      " 3   C�DIGO MUNIC�PIO SIAFI  int64 \n",
      " 4   NOME MUNIC�PIO          object\n",
      " 5   CPF FAVORECIDO          object\n",
      " 6   NIS FAVORECIDO          int64 \n",
      " 7   NOME FAVORECIDO         object\n",
      " 8   VALOR PARCELA           object\n",
      "dtypes: int64(4), object(5)\n",
      "memory usage: 913.4+ MB\n"
     ]
    }
   ],
   "source": [
    "df.info()"
   ]
  },
  {
   "cell_type": "code",
   "execution_count": null,
   "id": "35f1bbb9",
   "metadata": {},
   "outputs": [],
   "source": []
  }
 ],
 "metadata": {
  "interpreter": {
   "hash": "8650066fc15f17d46dd259d55e6c4d1a476607f31637b4a8af43e82d174ecf28"
  },
  "kernelspec": {
   "display_name": "Python 3",
   "language": "python",
   "name": "python3"
  },
  "language_info": {
   "codemirror_mode": {
    "name": "ipython",
    "version": 3
   },
   "file_extension": ".py",
   "mimetype": "text/x-python",
   "name": "python",
   "nbconvert_exporter": "python",
   "pygments_lexer": "ipython3",
   "version": "3.8.8"
  }
 },
 "nbformat": 4,
 "nbformat_minor": 5
}
