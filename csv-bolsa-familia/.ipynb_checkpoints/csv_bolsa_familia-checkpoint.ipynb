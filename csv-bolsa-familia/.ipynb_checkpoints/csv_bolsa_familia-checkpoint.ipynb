{
 "cells": [
  {
   "cell_type": "markdown",
   "id": "011e162d",
   "metadata": {},
   "source": [
    "## Dados Bolsa Família - janeiro/2020"
   ]
  },
  {
   "cell_type": "code",
   "execution_count": 1,
   "id": "cbaf96e8",
   "metadata": {},
   "outputs": [],
   "source": [
    "import pandas as pd\n",
    "import numpy as np\n",
    "import codecs\n",
    "from pathlib import Path, PureWindowsPath"
   ]
  },
  {
   "cell_type": "code",
   "execution_count": 2,
   "id": "a66f8048",
   "metadata": {},
   "outputs": [],
   "source": [
    "file = PureWindowsPath('C:/DataSets/python/bolsafamilia_jan2020.csv')"
   ]
  },
  {
   "cell_type": "code",
   "execution_count": null,
   "id": "29faac95",
   "metadata": {},
   "outputs": [],
   "source": [
    "df = pd.read_csv(file, sep=';')\n",
    "\n",
    "df.head()"
   ]
  },
  {
   "cell_type": "code",
   "execution_count": 4,
   "id": "8a52ee8b",
   "metadata": {},
   "outputs": [],
   "source": [
    "import unicodedata\n",
    "import re\n",
    "\n",
    "\"\"\"\n",
    "A remoção de acentos foi baseada em uma resposta no Stack Overflow.\n",
    "http://stackoverflow.com/a/517974/3464573\n",
    "\"\"\"\n",
    "\n",
    "def removerAcentosECaracteresEspeciais(df):\n",
    "\n",
    "    # Unicode normalize transforma um caracter em seu equivalente em latin.\n",
    "    nfkd = unicodedata.normalize('NFKD', df)\n",
    "    palavraSemAcento = u\"\".join([c for c in nfkd if not unicodedata.combining(c)])\n",
    "\n",
    "    # Usa expressão regular para retornar a palavra apenas com números, letras e espaço\n",
    "    return re.sub('[^a-zA-Z0-9 \\\\\\]', '', palavraSemAcento)"
   ]
  },
  {
   "cell_type": "code",
   "execution_count": 5,
   "id": "b75de8ab",
   "metadata": {},
   "outputs": [],
   "source": [
    "import sqlite3\n",
    "from sqlite3 import Error"
   ]
  },
  {
   "cell_type": "code",
   "execution_count": 6,
   "id": "da171968",
   "metadata": {},
   "outputs": [],
   "source": [
    "conn = sqlite3.connect('bolsafamilia.db')"
   ]
  },
  {
   "cell_type": "code",
   "execution_count": 7,
   "id": "cb8d96b9",
   "metadata": {},
   "outputs": [
    {
     "name": "stderr",
     "output_type": "stream",
     "text": [
      "C:\\Users\\Claudio\\Anaconda3\\lib\\site-packages\\pandas\\core\\generic.py:2779: UserWarning: The spaces in these column names will not be changed. In pandas versions < 0.14, spaces were converted to underscores.\n",
      "  sql.to_sql(\n",
      "\n",
      "KeyboardInterrupt\n",
      "\n"
     ]
    }
   ],
   "source": [
    "df.to_sql(name='janeiro2020', con=conn)"
   ]
  },
  {
   "cell_type": "code",
   "execution_count": null,
   "id": "345b73de",
   "metadata": {},
   "outputs": [],
   "source": [
    "!sqlite3 bolsafamilia.db \".tables\""
   ]
  },
  {
   "cell_type": "code",
   "execution_count": null,
   "id": "53baf0c3",
   "metadata": {},
   "outputs": [],
   "source": [
    "!sqlite3 bolsafamilia.db \"PRAGMA table_info(janeiro2020)\""
   ]
  },
  {
   "cell_type": "code",
   "execution_count": null,
   "id": "5947a6a2",
   "metadata": {},
   "outputs": [],
   "source": [
    "type(df)"
   ]
  },
  {
   "cell_type": "code",
   "execution_count": null,
   "id": "51ceb105",
   "metadata": {},
   "outputs": [],
   "source": [
    "df"
   ]
  },
  {
   "cell_type": "code",
   "execution_count": null,
   "id": "fdb91600",
   "metadata": {},
   "outputs": [],
   "source": [
    "query = \"\"\"\n",
    "           select \"UF\", \"CPF FAVORECIDO\", \"NOME FAVORECIDO\", \"VALOR PARCELA\"\n",
    "           FROM janeiro2020\n",
    "\n",
    "\"\"\"\n",
    "\n",
    "df = pd.read_sql(query, con=conn, index_col='0')\n",
    "df"
   ]
  },
  {
   "cell_type": "code",
   "execution_count": null,
   "id": "31da6e4a",
   "metadata": {},
   "outputs": [],
   "source": []
  }
 ],
 "metadata": {
  "interpreter": {
   "hash": "8650066fc15f17d46dd259d55e6c4d1a476607f31637b4a8af43e82d174ecf28"
  },
  "kernelspec": {
   "display_name": "Python 3",
   "language": "python",
   "name": "python3"
  },
  "language_info": {
   "codemirror_mode": {
    "name": "ipython",
    "version": 3
   },
   "file_extension": ".py",
   "mimetype": "text/x-python",
   "name": "python",
   "nbconvert_exporter": "python",
   "pygments_lexer": "ipython3",
   "version": "3.8.8"
  }
 },
 "nbformat": 4,
 "nbformat_minor": 5
}
