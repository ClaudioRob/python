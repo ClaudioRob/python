{
 "cells": [
  {
   "cell_type": "markdown",
   "id": "08bd46aa",
   "metadata": {},
   "source": [
    "## Valor de Mercado da APPLE em Setembro/2021 - Análise Exploratória\n",
    "### Período Analisado: Set/2016 a Set/2021"
   ]
  },
  {
   "cell_type": "code",
   "execution_count": 224,
   "id": "faa6822d",
   "metadata": {},
   "outputs": [],
   "source": [
    "#Importando as bibliotecas\n",
    "import pandas as pd\n",
    "import numpy as np\n",
    "import matplotlib.pyplot as plt\n",
    "plt.style.use(\"seaborn\")"
   ]
  },
  {
   "cell_type": "code",
   "execution_count": 225,
   "id": "98396b3f",
   "metadata": {},
   "outputs": [
    {
     "data": {
      "text/html": [
       "<div>\n",
       "<style scoped>\n",
       "    .dataframe tbody tr th:only-of-type {\n",
       "        vertical-align: middle;\n",
       "    }\n",
       "\n",
       "    .dataframe tbody tr th {\n",
       "        vertical-align: top;\n",
       "    }\n",
       "\n",
       "    .dataframe thead th {\n",
       "        text-align: right;\n",
       "    }\n",
       "</style>\n",
       "<table border=\"1\" class=\"dataframe\">\n",
       "  <thead>\n",
       "    <tr style=\"text-align: right;\">\n",
       "      <th></th>\n",
       "      <th>Date</th>\n",
       "      <th>Close</th>\n",
       "      <th>Volume</th>\n",
       "      <th>Open</th>\n",
       "      <th>High</th>\n",
       "      <th>Low</th>\n",
       "    </tr>\n",
       "  </thead>\n",
       "  <tbody>\n",
       "    <tr>\n",
       "      <th>0</th>\n",
       "      <td>09/28/2021</td>\n",
       "      <td>$141.91</td>\n",
       "      <td>108972300</td>\n",
       "      <td>$143.25</td>\n",
       "      <td>$144.75</td>\n",
       "      <td>$141.69</td>\n",
       "    </tr>\n",
       "    <tr>\n",
       "      <th>1</th>\n",
       "      <td>09/27/2021</td>\n",
       "      <td>$145.37</td>\n",
       "      <td>74150730</td>\n",
       "      <td>$145.47</td>\n",
       "      <td>$145.96</td>\n",
       "      <td>$143.82</td>\n",
       "    </tr>\n",
       "    <tr>\n",
       "      <th>2</th>\n",
       "      <td>09/24/2021</td>\n",
       "      <td>$146.92</td>\n",
       "      <td>53477870</td>\n",
       "      <td>$145.66</td>\n",
       "      <td>$147.4701</td>\n",
       "      <td>$145.56</td>\n",
       "    </tr>\n",
       "    <tr>\n",
       "      <th>3</th>\n",
       "      <td>09/23/2021</td>\n",
       "      <td>$146.83</td>\n",
       "      <td>64838170</td>\n",
       "      <td>$146.65</td>\n",
       "      <td>$147.08</td>\n",
       "      <td>$145.64</td>\n",
       "    </tr>\n",
       "    <tr>\n",
       "      <th>4</th>\n",
       "      <td>09/22/2021</td>\n",
       "      <td>$145.85</td>\n",
       "      <td>76404340</td>\n",
       "      <td>$144.45</td>\n",
       "      <td>$146.43</td>\n",
       "      <td>$143.7001</td>\n",
       "    </tr>\n",
       "  </tbody>\n",
       "</table>\n",
       "</div>"
      ],
      "text/plain": [
       "         Date    Close     Volume     Open       High        Low\n",
       "0  09/28/2021  $141.91  108972300  $143.25    $144.75    $141.69\n",
       "1  09/27/2021  $145.37   74150730  $145.47    $145.96    $143.82\n",
       "2  09/24/2021  $146.92   53477870  $145.66  $147.4701    $145.56\n",
       "3  09/23/2021  $146.83   64838170  $146.65    $147.08    $145.64\n",
       "4  09/22/2021  $145.85   76404340  $144.45    $146.43  $143.7001"
      ]
     },
     "execution_count": 225,
     "metadata": {},
     "output_type": "execute_result"
    }
   ],
   "source": [
    "#Criando nosso DataFrame  #Cotação Dólar em 28/09/2021 = R$ 5,4293\n",
    "df = pd.read_csv(\"C:/DataSets/python/valormercadoapple.csv\")\n",
    "df.head()"
   ]
  },
  {
   "cell_type": "code",
   "execution_count": 226,
   "id": "d215e7bb",
   "metadata": {},
   "outputs": [
    {
     "data": {
      "text/plain": [
       "(1258, 6)"
      ]
     },
     "execution_count": 226,
     "metadata": {},
     "output_type": "execute_result"
    }
   ],
   "source": [
    "#Verificando tamando do dataset\n",
    "df.shape"
   ]
  },
  {
   "cell_type": "code",
   "execution_count": 227,
   "id": "9a0285df",
   "metadata": {},
   "outputs": [
    {
     "data": {
      "text/plain": [
       "Date      object\n",
       "Close     object\n",
       "Volume     int64\n",
       "Open      object\n",
       "High      object\n",
       "Low       object\n",
       "dtype: object"
      ]
     },
     "execution_count": 227,
     "metadata": {},
     "output_type": "execute_result"
    }
   ],
   "source": [
    "#Verificando tipo de dados do dataset\n",
    "df.dtypes"
   ]
  },
  {
   "cell_type": "code",
   "execution_count": 228,
   "id": "54c4c773",
   "metadata": {},
   "outputs": [
    {
     "data": {
      "text/html": [
       "<div>\n",
       "<style scoped>\n",
       "    .dataframe tbody tr th:only-of-type {\n",
       "        vertical-align: middle;\n",
       "    }\n",
       "\n",
       "    .dataframe tbody tr th {\n",
       "        vertical-align: top;\n",
       "    }\n",
       "\n",
       "    .dataframe thead th {\n",
       "        text-align: right;\n",
       "    }\n",
       "</style>\n",
       "<table border=\"1\" class=\"dataframe\">\n",
       "  <thead>\n",
       "    <tr style=\"text-align: right;\">\n",
       "      <th></th>\n",
       "      <th>Data</th>\n",
       "      <th>Cot_Final</th>\n",
       "      <th>Volume</th>\n",
       "      <th>Cot_Inicial</th>\n",
       "      <th>Maior_Cot</th>\n",
       "      <th>Menor_Cot</th>\n",
       "    </tr>\n",
       "  </thead>\n",
       "  <tbody>\n",
       "    <tr>\n",
       "      <th>0</th>\n",
       "      <td>09/28/2021</td>\n",
       "      <td>$141.91</td>\n",
       "      <td>108972300</td>\n",
       "      <td>$143.25</td>\n",
       "      <td>$144.75</td>\n",
       "      <td>$141.69</td>\n",
       "    </tr>\n",
       "    <tr>\n",
       "      <th>1</th>\n",
       "      <td>09/27/2021</td>\n",
       "      <td>$145.37</td>\n",
       "      <td>74150730</td>\n",
       "      <td>$145.47</td>\n",
       "      <td>$145.96</td>\n",
       "      <td>$143.82</td>\n",
       "    </tr>\n",
       "    <tr>\n",
       "      <th>2</th>\n",
       "      <td>09/24/2021</td>\n",
       "      <td>$146.92</td>\n",
       "      <td>53477870</td>\n",
       "      <td>$145.66</td>\n",
       "      <td>$147.4701</td>\n",
       "      <td>$145.56</td>\n",
       "    </tr>\n",
       "    <tr>\n",
       "      <th>3</th>\n",
       "      <td>09/23/2021</td>\n",
       "      <td>$146.83</td>\n",
       "      <td>64838170</td>\n",
       "      <td>$146.65</td>\n",
       "      <td>$147.08</td>\n",
       "      <td>$145.64</td>\n",
       "    </tr>\n",
       "    <tr>\n",
       "      <th>4</th>\n",
       "      <td>09/22/2021</td>\n",
       "      <td>$145.85</td>\n",
       "      <td>76404340</td>\n",
       "      <td>$144.45</td>\n",
       "      <td>$146.43</td>\n",
       "      <td>$143.7001</td>\n",
       "    </tr>\n",
       "  </tbody>\n",
       "</table>\n",
       "</div>"
      ],
      "text/plain": [
       "         Data Cot_Final     Volume Cot_Inicial  Maior_Cot  Menor_Cot\n",
       "0  09/28/2021   $141.91  108972300     $143.25    $144.75    $141.69\n",
       "1  09/27/2021   $145.37   74150730     $145.47    $145.96    $143.82\n",
       "2  09/24/2021   $146.92   53477870     $145.66  $147.4701    $145.56\n",
       "3  09/23/2021   $146.83   64838170     $146.65    $147.08    $145.64\n",
       "4  09/22/2021   $145.85   76404340     $144.45    $146.43  $143.7001"
      ]
     },
     "execution_count": 228,
     "metadata": {},
     "output_type": "execute_result"
    }
   ],
   "source": [
    "#DataFrame com as Cotações e Volumes diários das Ações da Apple\n",
    "df = df.rename(columns={'Date': 'Data', 'Close': 'Cot_Final', 'Open': 'Cot_Inicial', 'High': 'Maior_Cot', 'Low': 'Menor_Cot',})\n",
    "df.head()"
   ]
  },
  {
   "cell_type": "code",
   "execution_count": 223,
   "id": "01d223a8",
   "metadata": {},
   "outputs": [
    {
     "name": "stdout",
     "output_type": "stream",
     "text": [
      "5.4152\n"
     ]
    }
   ],
   "source": [
    "#Buscando valor da cotação atual do Dólar(R$)\n",
    "import requests\n",
    "import json\n",
    "\n",
    "requisicao = requests.get(\"https://economia.awesomeapi.com.br/json/last/USD-BRL\")\n",
    "cotacao = json.loads(requisicao.text)\n",
    "df_cotacao = pd.to_numeric(cotacao['USDBRL']['bid'], errors = 'coerce')\n",
    "print(df_cotacao)"
   ]
  },
  {
   "cell_type": "code",
   "execution_count": 207,
   "id": "4fa77615",
   "metadata": {},
   "outputs": [
    {
     "name": "stdout",
     "output_type": "stream",
     "text": [
      "Informe o valor da cotação final em: US$ 141.91\n",
      "Informe o valor da cotação do dólar em: R$ 5.4152\n",
      "O Valor de 1(uma) Ação da APPLE convertido em Reais é: R$ 768,47\n"
     ]
    }
   ],
   "source": [
    "#Buscando Valor Atual da Ação da Apple\n",
    "dolar = float(input(\"Informe o valor da cotação final em: US$ \"))\n",
    "cotacao = float(input (\"Informe o valor da cotação do dólar em: R$ \"))\n",
    "conversao = cotacao*dolar\n",
    "print('O Valor de 1(uma) Ação da APPLE convertido em Reais é: R$', (\"%.2f\" % conversao).replace(\".\", \",\"))"
   ]
  },
  {
   "cell_type": "code",
   "execution_count": 250,
   "id": "eaaa975d",
   "metadata": {},
   "outputs": [
    {
     "data": {
      "text/plain": [
       "2422485387.84"
      ]
     },
     "execution_count": 250,
     "metadata": {},
     "output_type": "execute_result"
    }
   ],
   "source": [
    "#Maior Volume de Ações vendido no período convertidos em Real(R$)\n",
    "M_Volume = round(df[\"Volume\"].max() * df_cotacao, 2)\n",
    "M_Volume"
   ]
  },
  {
   "cell_type": "code",
   "execution_count": null,
   "id": "ca8d8c32",
   "metadata": {},
   "outputs": [],
   "source": []
  }
 ],
 "metadata": {
  "kernelspec": {
   "display_name": "Python 3",
   "language": "python",
   "name": "python3"
  },
  "language_info": {
   "codemirror_mode": {
    "name": "ipython",
    "version": 3
   },
   "file_extension": ".py",
   "mimetype": "text/x-python",
   "name": "python",
   "nbconvert_exporter": "python",
   "pygments_lexer": "ipython3",
   "version": "3.8.8"
  }
 },
 "nbformat": 4,
 "nbformat_minor": 5
}
