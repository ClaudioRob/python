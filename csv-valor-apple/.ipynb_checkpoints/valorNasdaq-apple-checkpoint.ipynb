{
 "cells": [
  {
   "cell_type": "markdown",
   "id": "08bd46aa",
   "metadata": {},
   "source": [
    "## Valor de Mercado da APPLE em Setembro/2021 - Análise Exploratória\n",
    "### Período Analisado: Set/2016 a Set/2021"
   ]
  },
  {
   "cell_type": "code",
   "execution_count": null,
   "id": "faa6822d",
   "metadata": {},
   "outputs": [],
   "source": [
    "#Importando as bibliotecas\n",
    "import pandas as pd\n",
    "import numpy as np\n",
    "import matplotlib.pyplot as plt\n",
    "plt.style.use(\"seaborn\")"
   ]
  },
  {
   "cell_type": "code",
   "execution_count": null,
   "id": "4ac6f803-223f-40b4-8e63-cbbf31cdcb7a",
   "metadata": {},
   "outputs": [],
   "source": [
    "%pwd"
   ]
  },
  {
   "cell_type": "code",
   "execution_count": null,
   "id": "98396b3f",
   "metadata": {},
   "outputs": [],
   "source": [
    "#Criando nosso DataFrame  #Cotação Dólar em 28/09/2021 = R$ 5,4293\n",
    "df = pd.read_csv(\"C:/DataSets/python/valormercadoapple.csv\")\n",
    "df.head()"
   ]
  },
  {
   "cell_type": "code",
   "execution_count": null,
   "id": "d215e7bb",
   "metadata": {},
   "outputs": [],
   "source": [
    "#Verificando tamando do dataset\n",
    "df.shape"
   ]
  },
  {
   "cell_type": "code",
   "execution_count": null,
   "id": "9a0285df",
   "metadata": {},
   "outputs": [],
   "source": [
    "#Verificando tipo de dados do dataset\n",
    "df.dtypes"
   ]
  },
  {
   "cell_type": "code",
   "execution_count": null,
   "id": "54c4c773",
   "metadata": {},
   "outputs": [],
   "source": [
    "#DataFrame com as Cotações e Volumes diários das Ações da Apple\n",
    "df = df.rename(columns={'Date': 'Data', 'Close': 'Cot_Final', 'Open': 'Cot_Inicial', 'High': 'Maior_Cot', 'Low': 'Menor_Cot',})\n",
    "df.head()"
   ]
  },
  {
   "cell_type": "code",
   "execution_count": null,
   "id": "01d223a8",
   "metadata": {},
   "outputs": [],
   "source": [
    "#Buscando valor da cotação atual do Dólar(R$)\n",
    "import requests\n",
    "import json\n",
    "\n",
    "requisicao = requests.get(\"https://economia.awesomeapi.com.br/json/last/USD-BRL\")\n",
    "cotacao = json.loads(requisicao.text)\n",
    "df_cotacao = pd.to_numeric(cotacao['USDBRL']['bid'], errors = 'coerce')\n",
    "print(\"O valor atual do Dólar é R$:\", df_cotacao)"
   ]
  },
  {
   "cell_type": "code",
   "execution_count": null,
   "id": "4fa77615",
   "metadata": {},
   "outputs": [],
   "source": [
    "#Buscando Valor Atual da Ação da Apple\n",
    "dolar = float(input(\"Informe o valor da cotação final em: US$ \"))\n",
    "cotacao = float(input (\"Informe o valor da cotação do dólar em: R$ \"))\n",
    "conversao = cotacao*dolar\n",
    "print('O Valor de 1(uma) Ação da APPLE convertido em Reais é: R$', (\"%.2f\" % conversao).replace(\".\", \",\"))"
   ]
  },
  {
   "cell_type": "code",
   "execution_count": null,
   "id": "eaaa975d",
   "metadata": {},
   "outputs": [],
   "source": [
    "#Maior Volume de Ações vendido no período convertidos em Real(R$)\n",
    "M_Volume = round(df[\"Volume\"].max() * df_cotacao, 2)\n",
    "print(\"O Volume Total de Ações vendidas no período é:\", M_Volume)"
   ]
  },
  {
   "cell_type": "code",
   "execution_count": null,
   "id": "f430f9bd-56a0-4ea2-9184-cb4ef89ca196",
   "metadata": {},
   "outputs": [],
   "source": []
  }
 ],
 "metadata": {
  "kernelspec": {
   "display_name": "Python 3",
   "language": "python",
   "name": "python3"
  },
  "language_info": {
   "codemirror_mode": {
    "name": "ipython",
    "version": 3
   },
   "file_extension": ".py",
   "mimetype": "text/x-python",
   "name": "python",
   "nbconvert_exporter": "python",
   "pygments_lexer": "ipython3",
   "version": "3.8.8"
  }
 },
 "nbformat": 4,
 "nbformat_minor": 5
}
